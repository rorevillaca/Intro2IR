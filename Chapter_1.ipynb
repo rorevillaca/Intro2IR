{
 "cells": [
  {
   "attachments": {},
   "cell_type": "markdown",
   "metadata": {},
   "source": [
    "### Chapter 1\n",
    "#### Boolean Retrieval"
   ]
  },
  {
   "attachments": {},
   "cell_type": "markdown",
   "metadata": {},
   "source": [
    "1.1 [*] Draw the inverted index that would be built for the following document collection.\n",
    "\n",
    "Doc 1: new home sales top forecasts\n",
    "\n",
    "Doc 2: home sales rise in july\n",
    "\n",
    "Doc 3: increase in home sales in july\n",
    "\n",
    "Doc 4: july new home sales rise"
   ]
  },
  {
   "cell_type": "code",
   "execution_count": null,
   "metadata": {},
   "outputs": [],
   "source": []
  },
  {
   "attachments": {},
   "cell_type": "markdown",
   "metadata": {},
   "source": [
    "1.2 [*] Consider these documents:\n",
    "\n",
    "Doc 1: breakthrough drug for schizophrenia\n",
    "\n",
    "Doc 2: new schizophrenia drug\n",
    "\n",
    "Doc 3: new approach for treatment of schizophrenia\\\n",
    "\n",
    "Doc 4: new hopes for schizophrenia patients\n",
    "\n",
    "a) Draw the term-document incidence matrix for this document collection\n",
    "\n",
    "b) Draw the inverted index representation of this collection"
   ]
  },
  {
   "cell_type": "code",
   "execution_count": null,
   "metadata": {},
   "outputs": [],
   "source": []
  },
  {
   "attachments": {},
   "cell_type": "markdown",
   "metadata": {},
   "source": [
    "1.3. [*] For the document collection shown in Excercise 1.2, what are the returned results for these queries?\n",
    "\n",
    "a) Schizophrenia AND drug\n",
    "\n",
    "b) for AND NOT (drug or approach)"
   ]
  },
  {
   "cell_type": "code",
   "execution_count": null,
   "metadata": {},
   "outputs": [],
   "source": []
  },
  {
   "attachments": {},
   "cell_type": "markdown",
   "metadata": {},
   "source": [
    "1.4 [*] For the queries below, can we still run through the intersection in time O(x+y), where x and y are the lengths of the posting lists for Brutus and Caesar? If not, what can we achieve?\n",
    "\n",
    "a) Brutus AND NOT Caesar\n",
    "\n",
    "b) Brutus OR NOT Caesar"
   ]
  },
  {
   "cell_type": "code",
   "execution_count": null,
   "metadata": {},
   "outputs": [],
   "source": []
  },
  {
   "attachments": {},
   "cell_type": "markdown",
   "metadata": {},
   "source": [
    "1.5 [*] Extend the postings merhe algorithm to arbitrary Boolean query formulas. What is its time complexity? For instance, consider:\n",
    "\n",
    "c) (Brutus OR Caesar) AND NOT (Antony or Cleopatra)\n",
    "\n",
    "Can we always merge in linear time? Linear in what? Can we do better than this?"
   ]
  },
  {
   "cell_type": "code",
   "execution_count": null,
   "metadata": {},
   "outputs": [],
   "source": []
  },
  {
   "attachments": {},
   "cell_type": "markdown",
   "metadata": {},
   "source": [
    "1.6 [**] We can use distributive laws for AND and OR to rewrite queries.\n",
    "\n",
    "a) Show how to rewrite the query in Excercise 1.5 into disjunctive normal form using distributive laws\n",
    "\n",
    "b) Would the resulting query be more or less efficiently evaluated than the original form of this query?\n",
    "\n",
    "c) Is this result true in general or does it depend on the words and the contents of the document collection?"
   ]
  },
  {
   "cell_type": "code",
   "execution_count": null,
   "metadata": {},
   "outputs": [],
   "source": []
  },
  {
   "attachments": {},
   "cell_type": "markdown",
   "metadata": {},
   "source": [
    "1.7 [*] Recommend a query processing order for\n",
    "\n",
    "d) (tangerine OR trees) AND (marmalade or skies) AND (kaleidoscope OR eyes) \n",
    "\n",
    "given the following postings list sizes:\n",
    "\n",
    "Term          | Postings size\n",
    "\n",
    "eyes            213312\n",
    "\n",
    "kaleidoscope    87009\n",
    "\n",
    "marmalade       107913\n",
    "\n",
    "skies           271658\n",
    "\n",
    "tangerine       46653\n",
    "\n",
    "trees           316812"
   ]
  },
  {
   "cell_type": "code",
   "execution_count": null,
   "metadata": {},
   "outputs": [],
   "source": []
  },
  {
   "attachments": {},
   "cell_type": "markdown",
   "metadata": {},
   "source": [
    "1.8 [*] If the query is:\n",
    "\n",
    "e) friends AND romans AND (NOT countrymen)\n",
    "how could we use the frequency of countrymen in evaluating the best query evaluation order? In particular, propose a way of handling negation in determining te order of query processing."
   ]
  },
  {
   "cell_type": "code",
   "execution_count": null,
   "metadata": {},
   "outputs": [],
   "source": []
  },
  {
   "attachments": {},
   "cell_type": "markdown",
   "metadata": {},
   "source": [
    "1.9 [**] For a conjuctive query, is processing posting lists in order of size guaranteed to be optimal? Explain why it is, or give an example where its not."
   ]
  },
  {
   "cell_type": "code",
   "execution_count": null,
   "metadata": {},
   "outputs": [],
   "source": []
  },
  {
   "attachments": {},
   "cell_type": "markdown",
   "metadata": {},
   "source": [
    "1.10 [**] Write out a postings merge algorithm, in the Style of FIgure 1.6 for an x or y query"
   ]
  },
  {
   "cell_type": "code",
   "execution_count": null,
   "metadata": {},
   "outputs": [],
   "source": []
  },
  {
   "attachments": {},
   "cell_type": "markdown",
   "metadata": {},
   "source": [
    "1.11 [**] How should the Boolean query x AND NOT y be handled? Why is a naive evalation of this query normally very expensive? Write out a  postings merge algorithm that evaluates this query efficiently"
   ]
  },
  {
   "cell_type": "code",
   "execution_count": null,
   "metadata": {},
   "outputs": [],
   "source": []
  },
  {
   "attachments": {},
   "cell_type": "markdown",
   "metadata": {},
   "source": [
    "1.12 [*] Write a query using Westlaw sintax that would find any of the words professor, teacher, OR lecturer on the same sentence as a form of the verb explain"
   ]
  },
  {
   "cell_type": "code",
   "execution_count": null,
   "metadata": {},
   "outputs": [],
   "source": []
  },
  {
   "attachments": {},
   "cell_type": "markdown",
   "metadata": {},
   "source": [
    "1.13 [*] Try using the Boolean search features on a couple of major web search engines. For instance, choose a word, such as burglar and submit the queries (i) burglar, (ii) burglar AND burglar, and (iii) burglar or burglar. Look at the estimated number of results and top hits. Do they make sense in terms of Boolean logic? Often they haven't for many major search engines. Can you make sense of what is going on? What about if you try different words? For example, query for (i) knight, (ii) conquer, and then (iii) knights OR conquer. What bound should the number of results from the first two queries place on the third query? Is this bound observed?"
   ]
  },
  {
   "cell_type": "markdown",
   "metadata": {},
   "source": []
  }
 ],
 "metadata": {
  "language_info": {
   "name": "python"
  },
  "orig_nbformat": 4
 },
 "nbformat": 4,
 "nbformat_minor": 2
}
